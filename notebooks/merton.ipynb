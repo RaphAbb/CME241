{
 "cells": [
  {
   "cell_type": "code",
   "execution_count": 1,
   "metadata": {},
   "outputs": [],
   "source": [
    "import os\n",
    "os.chdir(\"../\")"
   ]
  },
  {
   "cell_type": "code",
   "execution_count": 2,
   "metadata": {},
   "outputs": [],
   "source": [
    "from my_utils.markov_process import MP, MDP, MRP\n",
    "from my_utils.dp_algos import value_step, store_value_function, policy_evaluation, policy_iteration, value_iteration\n",
    "from my_utils.policy import DetPolicy, RandPolicy\n",
    "\n",
    "from my_utils.merton import Merton"
   ]
  },
  {
   "cell_type": "code",
   "execution_count": 3,
   "metadata": {},
   "outputs": [],
   "source": [
    "W = 100\n",
    "T = 10\n",
    "mu = 0.05\n",
    "vol = 0.2\n",
    "r = 0.03"
   ]
  },
  {
   "cell_type": "code",
   "execution_count": null,
   "metadata": {},
   "outputs": [],
   "source": [
    "mer = Merton(W, T, mu, vol, r, eps = W/100)\n",
    "mer.generate()"
   ]
  },
  {
   "cell_type": "code",
   "execution_count": 4,
   "metadata": {},
   "outputs": [
    {
     "name": "stdout",
     "output_type": "stream",
     "text": [
      "False\n"
     ]
    }
   ],
   "source": [
    "mdp = MDP(mer.s_ind, action2P = mer.action2P, action2rewards = mer.action2rewards, actions = mer.actions)\n",
    "\n",
    "mapping = {s: {(0.2, 0.1):1} for s in mdp.states}\n",
    "policy = DetPolicy(mer.action2P, mer.action2rewards, mapping)"
   ]
  },
  {
   "cell_type": "code",
   "execution_count": 5,
   "metadata": {},
   "outputs": [],
   "source": [
    "is_improved, opt_policy = value_iteration(mdp, policy)"
   ]
  },
  {
   "cell_type": "code",
   "execution_count": null,
   "metadata": {},
   "outputs": [],
   "source": []
  },
  {
   "cell_type": "code",
   "execution_count": null,
   "metadata": {},
   "outputs": [],
   "source": []
  }
 ],
 "metadata": {
  "kernelspec": {
   "display_name": "Python 3",
   "language": "python",
   "name": "python3"
  },
  "language_info": {
   "codemirror_mode": {
    "name": "ipython",
    "version": 3
   },
   "file_extension": ".py",
   "mimetype": "text/x-python",
   "name": "python",
   "nbconvert_exporter": "python",
   "pygments_lexer": "ipython3",
   "version": "3.7.3"
  }
 },
 "nbformat": 4,
 "nbformat_minor": 2
}
